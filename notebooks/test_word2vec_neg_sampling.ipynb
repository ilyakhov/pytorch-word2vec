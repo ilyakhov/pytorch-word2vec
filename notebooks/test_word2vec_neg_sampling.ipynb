{
 "cells": [
  {
   "cell_type": "code",
   "execution_count": 1,
   "metadata": {},
   "outputs": [
    {
     "name": "stdout",
     "output_type": "stream",
     "text": [
      "1.1.0\n"
     ]
    }
   ],
   "source": [
    "import torch\n",
    "from torch.utils.data import DataLoader\n",
    "\n",
    "import time\n",
    "import pickle\n",
    "import os\n",
    "import logging\n",
    "\n",
    "from process_data import process_data\n",
    "from model_fn import CBOWNegativeSampling\n",
    "from input_fn import CBOWDataSet\n",
    "from utils import set_logger\n",
    "\n",
    "print(torch.__version__)"
   ]
  },
  {
   "cell_type": "code",
   "execution_count": 2,
   "metadata": {
    "collapsed": true
   },
   "outputs": [],
   "source": [
    "from sklearn.neighbors import NearestNeighbors\n",
    "from sklearn.metrics.pairwise import cosine_similarity\n",
    "\n",
    "import numpy as np"
   ]
  },
  {
   "cell_type": "code",
   "execution_count": 4,
   "metadata": {
    "scrolled": true
   },
   "outputs": [
    {
     "name": "stdout",
     "output_type": "stream",
     "text": [
      "OrderedDict([('i_embeddings.weight', tensor([[-0.1614, -0.4475,  0.8746,  ...,  1.0885,  0.7373,  1.4938],\n",
      "        [ 0.4616, -0.0491, -0.8983,  ..., -0.7527,  0.0158,  0.0898],\n",
      "        [ 0.5296, -1.1797,  0.6152,  ...,  1.0413,  0.5616,  1.7336],\n",
      "        ...,\n",
      "        [ 1.4647, -1.0748,  0.1127,  ...,  1.1151,  0.5153, -0.6131],\n",
      "        [ 0.0304, -0.4872,  0.6183,  ..., -0.5817,  0.5671,  0.2364],\n",
      "        [ 1.0302, -0.2782, -1.2716,  ...,  0.6200,  0.1126, -0.4764]],\n",
      "       device='cuda:0')), ('o_embeddings.weight', tensor([[-1.0592,  1.2939,  0.5743,  ...,  0.3587, -0.6868, -0.6467],\n",
      "        [ 0.3221, -0.3622, -0.5399,  ...,  0.0968,  0.3784, -0.7261],\n",
      "        [ 0.1548,  0.5099,  0.7121,  ..., -0.7722, -0.2471, -0.3163],\n",
      "        ...,\n",
      "        [-0.2887,  0.2609, -0.4973,  ..., -0.8135, -0.5615, -0.0898],\n",
      "        [ 1.1526,  1.1314,  0.7232,  ..., -0.4846,  0.7292, -0.4832],\n",
      "        [ 0.8588, -0.9670, -1.4400,  ...,  0.8115, -0.3365,  1.2793]],\n",
      "       device='cuda:0'))])\n",
      "tensor([-1.6137e-01, -4.4749e-01,  8.7464e-01,  1.6048e+00,  7.3001e-01,\n",
      "        -4.7097e-01,  1.8369e-01, -1.0945e+00, -4.7010e-01,  4.4815e-01,\n",
      "         8.8898e-01,  1.2343e+00, -1.1050e-01,  1.3574e+00, -6.2854e-02,\n",
      "         6.3620e-01, -1.1540e+00,  1.8393e+00,  3.9019e-01, -3.4810e-01,\n",
      "         8.4969e-02,  3.3667e-01, -1.1214e+00,  1.0771e+00,  6.7681e-01,\n",
      "         5.1790e-01,  1.2211e+00,  2.0294e+00,  1.7725e-01, -2.3644e-01,\n",
      "         1.4560e+00,  3.1143e-01, -1.6049e-01, -3.2615e-01,  1.3617e-01,\n",
      "        -1.4916e-01, -3.0795e-01, -6.8010e-02, -6.1872e-01, -5.9765e-01,\n",
      "         6.3086e-02, -2.1956e-01,  8.2865e-01,  6.9775e-01,  2.4989e+00,\n",
      "         1.4115e-01, -1.5941e+00, -1.1228e-02,  3.5092e-01, -7.8784e-01,\n",
      "        -4.6723e-01,  6.5086e-01, -7.0173e-01,  1.3557e+00, -9.6225e-01,\n",
      "        -1.3027e+00,  4.2860e-01, -1.2695e+00,  2.0375e-01, -1.1740e+00,\n",
      "        -1.1828e+00, -2.3701e-01,  8.0765e-02,  8.4990e-01, -9.3660e-01,\n",
      "         5.5006e-01,  1.8844e+00, -1.2008e-01, -8.4485e-01, -2.9968e-01,\n",
      "         2.2486e+00, -5.4477e-01,  1.1785e+00, -5.0177e-01, -1.8821e+00,\n",
      "         1.5140e+00, -4.0337e-01,  1.0967e+00, -5.4787e-01,  6.3863e-01,\n",
      "        -4.0268e-01,  3.7240e-01,  6.1966e-01,  7.8945e-01, -1.2069e+00,\n",
      "         9.0653e-01,  3.4711e-01, -4.9667e-01,  1.0295e+00,  1.2354e-01,\n",
      "         4.4881e-04, -1.5029e-01, -9.1343e-01,  4.7883e-01,  2.3907e-01,\n",
      "         4.0198e-01, -8.0579e-01, -4.0824e-01, -9.9258e-02,  1.0470e+00,\n",
      "         1.4124e+00,  8.7715e-01,  4.5580e-02,  8.7821e-01,  3.9924e-01,\n",
      "        -2.0793e-01,  6.5124e-01, -5.9173e-03,  7.5267e-01, -9.0627e-01,\n",
      "        -1.1925e-01, -7.3923e-01,  4.0944e-01, -1.9970e-01, -9.4231e-02,\n",
      "         1.2110e+00, -1.6573e+00,  1.8652e+00, -6.9302e-01, -3.9510e-01,\n",
      "        -1.9154e-01, -6.8554e-01,  1.2541e+00,  2.2920e-01,  2.4689e-01,\n",
      "        -3.3976e-01, -1.5415e-01,  1.2618e-01, -1.7929e-01,  2.0299e-01,\n",
      "         8.8233e-01, -2.0770e-01,  7.2334e-01,  1.0504e+00,  6.0176e-01,\n",
      "         1.3417e-01, -4.8443e-01, -7.2305e-01, -2.8767e-01,  1.4555e+00,\n",
      "        -8.5613e-01, -1.0405e+00,  1.7626e+00, -6.6725e-02,  2.0529e-01,\n",
      "         1.1224e+00,  2.4990e-01, -1.3878e-01,  1.8456e+00,  2.2153e-02,\n",
      "        -3.2701e-01, -5.1242e-01, -7.7428e-01,  4.7695e-01, -5.1458e-01,\n",
      "         5.4876e-01, -2.4853e-01,  5.1207e-01,  2.3779e-01, -3.5864e-01,\n",
      "        -3.9641e-01, -1.2916e-01, -5.0267e-01, -1.8503e+00,  9.2313e-01,\n",
      "         1.1812e+00, -1.1725e+00,  5.8561e-01,  7.9251e-01, -5.2201e-01,\n",
      "         1.1005e+00,  6.0908e-01,  5.1385e-02, -1.0422e-01, -1.1454e-01,\n",
      "        -6.8142e-02, -7.0575e-01,  5.3702e-01, -1.0010e+00,  4.9803e-01,\n",
      "         3.9644e-01,  3.6224e-01, -1.0052e+00, -4.5489e-01,  3.7476e-01,\n",
      "        -1.8464e-01,  4.5855e-01, -6.1470e-01, -2.0821e+00,  7.3319e-01,\n",
      "        -1.4165e+00, -1.2235e-01, -2.7341e-01, -4.4125e-01,  5.4906e-01,\n",
      "         2.5543e-01,  1.3486e+00,  1.0885e+00,  7.3729e-01,  1.4938e+00],\n",
      "       device='cuda:0', grad_fn=<SelectBackward>)\n"
     ]
    }
   ],
   "source": [
    "# WARNING! trashy code inside: skip it to the next cells\n",
    "processing_params = dict(\n",
    "        threshold_count=5,\n",
    "        pipeline='neg_sampling',\n",
    "        downsampling_params=(62, 1000)\n",
    "    )\n",
    "try:\n",
    "    loaded_params, (corpus, words_hash_inversed, vocab_size) = \\\n",
    "        pickle.load(open('/tmp/neg_sampling_bible_dataset.pkl', 'rb'))\n",
    "    if loaded_params != processing_params:\n",
    "        raise FileNotFoundError\n",
    "except FileNotFoundError:\n",
    "    out = process_data('../', **processing_params)\n",
    "    # print(out)\n",
    "    pickle.dump([processing_params, out],\n",
    "                open('/tmp/neg_sampling_bible_dataset.pkl', 'wb'))\n",
    "    corpus, words_hash_inversed, vocab_size = out\n",
    "\n",
    "# with torch.cuda.device(device):\n",
    "# with torch.\n",
    "device = torch.device(\"cpu\")\n",
    "device = torch.device(\"cuda:0\")\n",
    "# device = None\n",
    "\n",
    "batch_size = 1024*4 # 128  # 1024*8\n",
    "log_freq   = 200  # 100*8*2\n",
    "lr = 1e-3\n",
    "\n",
    "# batch_size = 10000  # 1024*8\n",
    "# log_freq   = 50\n",
    "# lr = 0.025\n",
    "emb_size=200\n",
    "neg_samples=20\n",
    "window_size=6\n",
    "\n",
    "\n",
    "st = time.time()\n",
    "# with torch.cuda.device(device):\n",
    "cbow_dataset = CBOWDataSet(corpus,\n",
    "                           pipeline='neg_sampling',\n",
    "                           neg_samples=neg_samples,\n",
    "                           window_size=window_size,\n",
    "                           device=None)\n",
    "data_len = cbow_dataset.__len__()\n",
    "n_steps  = (data_len - 1) // batch_size\n",
    "cbow_loader = DataLoader(cbow_dataset, batch_size=batch_size,\n",
    "                         shuffle=False, num_workers=12)\n",
    "\n",
    "# loss = torch.mean(-1 * torch.log(cbow_out))\n",
    "losses = []\n",
    "model = CBOWNegativeSampling(vocab_size, emb_size,\n",
    "                             neg_sampling_factor=neg_samples,\n",
    "                             device=device)\n",
    "model.cuda(0)\n",
    "\n",
    "\n",
    "# path = '/home/d3/study-projects/really_new/doc2vec/pytorch-word2vec/ckpt-lambda-scheduler/e199-lr0.001-loss5.236-w2vec-bible.ckpt.tar'\n",
    "# path1 = 'ckpt/ckpt-neg-sampling-neg_sampling5-ds1000-batchs10000/e32-10000-lr0.00943-loss21.90369-w2vec-bible.ckpt.tar'\n",
    "# path1 = 'ckpt/ckpt-neg-sampling-neg_sampling5-ds1000-batch128/e180-128-lr0.00004-loss7.11385-w2vec-bible.ckpt.tar'\n",
    "path1 = 'ckpt/ckpt-neg-sampling-neg_sampling5-ds1000-batch4096/e199-4096-lr0.00100-loss1.64723-w2vec-bible.ckpt.tar'\n",
    "\n",
    "torch_loaded = torch.load(path1)\n",
    "    \n",
    "print(torch_loaded['model_state_dict'])\n",
    "model.load_state_dict(torch_loaded['model_state_dict'])\n",
    "# model.load_state_dict(torch_loaded['model_state_dict']['embeddings.weight'])\n",
    "print(model.i_embeddings.weight[0])"
   ]
  },
  {
   "cell_type": "code",
   "execution_count": 4,
   "metadata": {
    "collapsed": true
   },
   "outputs": [],
   "source": [
    "# words_hash = words_hash_inversed"
   ]
  },
  {
   "cell_type": "code",
   "execution_count": 5,
   "metadata": {
    "collapsed": true
   },
   "outputs": [],
   "source": [
    "words_hash = {w:i for i, w in words_hash_inversed.items()}"
   ]
  },
  {
   "cell_type": "code",
   "execution_count": 6,
   "metadata": {},
   "outputs": [
    {
     "data": {
      "text/plain": [
       "24"
      ]
     },
     "execution_count": 6,
     "metadata": {},
     "output_type": "execute_result"
    }
   ],
   "source": [
    "words_hash['jesus']"
   ]
  },
  {
   "cell_type": "code",
   "execution_count": 7,
   "metadata": {
    "collapsed": true
   },
   "outputs": [],
   "source": [
    "mean_embs = model.i_embeddings.weight + model.o_embeddings.weight / 2"
   ]
  },
  {
   "cell_type": "code",
   "execution_count": 8,
   "metadata": {},
   "outputs": [],
   "source": [
    "# embedding_weights = model.hatch_embeddings.weight.detach().cpu().numpy()\n",
    "embedding_weights = mean_embs.detach().cpu().numpy()"
   ]
  },
  {
   "cell_type": "code",
   "execution_count": 9,
   "metadata": {},
   "outputs": [
    {
     "data": {
      "text/plain": [
       "(5335, 200)"
      ]
     },
     "execution_count": 9,
     "metadata": {},
     "output_type": "execute_result"
    }
   ],
   "source": [
    "embedding_weights.shape"
   ]
  },
  {
   "cell_type": "code",
   "execution_count": 10,
   "metadata": {},
   "outputs": [
    {
     "data": {
      "text/plain": [
       "(5335, 200)"
      ]
     },
     "execution_count": 10,
     "metadata": {},
     "output_type": "execute_result"
    }
   ],
   "source": [
    "word2vec = embedding_weights[:vocab_size]\n",
    "word2vec.shape"
   ]
  },
  {
   "cell_type": "code",
   "execution_count": 11,
   "metadata": {},
   "outputs": [],
   "source": [
    "word2vec_normed = word2vec * np.expand_dims(np.sqrt(np.sum(word2vec**2, axis=1)) ** -1, axis=1)"
   ]
  },
  {
   "cell_type": "code",
   "execution_count": 12,
   "metadata": {
    "collapsed": true
   },
   "outputs": [],
   "source": [
    "def get_l2_norms(vecs):\n",
    "    return np.sqrt(np.sum(vecs ** 2, axis=1))"
   ]
  },
  {
   "cell_type": "code",
   "execution_count": 13,
   "metadata": {},
   "outputs": [
    {
     "data": {
      "text/plain": [
       "(array([1., 1., 1., ..., 1., 1., 1.], dtype=float32),\n",
       " array([12.638002, 10.937071, 12.571364, ..., 12.883799,  9.80985 ,\n",
       "        15.069929], dtype=float32))"
      ]
     },
     "execution_count": 13,
     "metadata": {},
     "output_type": "execute_result"
    }
   ],
   "source": [
    "get_l2_norms(word2vec_normed), get_l2_norms(word2vec)"
   ]
  },
  {
   "cell_type": "code",
   "execution_count": 14,
   "metadata": {
    "collapsed": true
   },
   "outputs": [],
   "source": [
    "word2vec = word2vec_normed"
   ]
  },
  {
   "cell_type": "markdown",
   "metadata": {},
   "source": [
    "# Helpers"
   ]
  },
  {
   "cell_type": "code",
   "execution_count": 15,
   "metadata": {
    "collapsed": true
   },
   "outputs": [],
   "source": [
    "def get_embeddings_index_of_word(word, words_hash=words_hash):\n",
    "    huffman_inx = words_hash[word]\n",
    "    return huffman_inx\n",
    "\n",
    "def get_embedding_by_word(word, word2vec=word2vec):\n",
    "    return word2vec[get_embeddings_index_of_word(word)]"
   ]
  },
  {
   "cell_type": "markdown",
   "metadata": {},
   "source": [
    "# Nearest Neighbours"
   ]
  },
  {
   "cell_type": "code",
   "execution_count": 16,
   "metadata": {},
   "outputs": [
    {
     "name": "stdout",
     "output_type": "stream",
     "text": [
      "CPU times: user 8.38 s, sys: 2.63 ms, total: 8.38 s\n",
      "Wall time: 8.44 s\n"
     ]
    }
   ],
   "source": [
    "nbrs = NearestNeighbors(n_neighbors=25, algorithm='auto',\n",
    "                        metric='minkowski', p=2).fit(word2vec)\n",
    "%time distances, indices = nbrs.kneighbors(word2vec)\n",
    "# distances, indices = nbrs.kneighbors()"
   ]
  },
  {
   "cell_type": "code",
   "execution_count": 17,
   "metadata": {
    "collapsed": true
   },
   "outputs": [],
   "source": [
    "def get_word_by_embedding_index(inx, words_hash_inversed=words_hash_inversed):\n",
    "    word = words_hash_inversed[inx]\n",
    "    return word"
   ]
  },
  {
   "cell_type": "code",
   "execution_count": 18,
   "metadata": {
    "collapsed": true
   },
   "outputs": [],
   "source": [
    "def print_nn_neighbours(w, indices=indices, distances=distances):\n",
    "    print(f'word: {w}\\nneighbours: ')\n",
    "    inx = get_embeddings_index_of_word(w)\n",
    "    for w_inx, dist in zip(indices[inx], distances[inx]):\n",
    "        print('{} - {}'.format(get_word_by_embedding_index(w_inx), round(dist, 2)))"
   ]
  },
  {
   "cell_type": "code",
   "execution_count": 19,
   "metadata": {},
   "outputs": [
    {
     "name": "stdout",
     "output_type": "stream",
     "text": [
      "word: jesus\n",
      "neighbours: \n",
      "jesus - 0.0\n",
      "christ - 1.07\n",
      "baptized - 1.14\n",
      "immediately - 1.16\n",
      "entered - 1.16\n",
      "peter - 1.16\n",
      "coming - 1.18\n",
      "grace - 1.18\n",
      "was - 1.19\n",
      "fear - 1.19\n",
      "jews - 1.19\n",
      "john - 1.2\n",
      "he - 1.2\n",
      "marvelled - 1.21\n",
      "trust - 1.21\n",
      "things - 1.21\n",
      "caesar - 1.22\n",
      "david - 1.22\n",
      "said - 1.22\n",
      "james - 1.22\n",
      "world - 1.22\n",
      "nazareth - 1.22\n",
      "should - 1.22\n",
      "answered - 1.22\n",
      "prayed - 1.22\n"
     ]
    }
   ],
   "source": [
    "print_nn_neighbours('jesus')"
   ]
  },
  {
   "cell_type": "markdown",
   "metadata": {},
   "source": [
    "# Cos sim"
   ]
  },
  {
   "cell_type": "code",
   "execution_count": 20,
   "metadata": {
    "collapsed": true
   },
   "outputs": [],
   "source": [
    "cos_sim_matrix = cosine_similarity(word2vec, word2vec)"
   ]
  },
  {
   "cell_type": "code",
   "execution_count": 21,
   "metadata": {
    "collapsed": true
   },
   "outputs": [],
   "source": [
    "def print_neighbours_cosine(w, cos_sim_matrix=cos_sim_matrix, topn=10):\n",
    "    print(f'word: {w}\\nneighbours: ')\n",
    "    inx = get_embeddings_index_of_word(w)\n",
    "        \n",
    "    word_row_dists = cos_sim_matrix[inx]\n",
    "    neighbours = np.argsort(-1 * word_row_dists)[:topn]\n",
    "    for n in neighbours:\n",
    "        print('{} - {:<3}'.format(get_word_by_embedding_index(n), round(word_row_dists[n], 2)))"
   ]
  },
  {
   "cell_type": "code",
   "execution_count": 22,
   "metadata": {},
   "outputs": [
    {
     "name": "stdout",
     "output_type": "stream",
     "text": [
      "word: jesus\n",
      "neighbours: \n",
      "jesus - 1.0\n",
      "christ - 0.4300000071525574\n",
      "baptized - 0.3499999940395355\n",
      "immediately - 0.33000001311302185\n",
      "entered - 0.33000001311302185\n",
      "peter - 0.33000001311302185\n",
      "coming - 0.3100000023841858\n",
      "grace - 0.30000001192092896\n",
      "was - 0.28999999165534973\n",
      "fear - 0.28999999165534973\n",
      "jews - 0.28999999165534973\n",
      "john - 0.28999999165534973\n",
      "he - 0.27000001072883606\n",
      "marvelled - 0.27000001072883606\n",
      "trust - 0.27000001072883606\n",
      "things - 0.25999999046325684\n",
      "caesar - 0.25999999046325684\n",
      "david - 0.25999999046325684\n",
      "said - 0.25999999046325684\n",
      "james - 0.25999999046325684\n",
      "world - 0.25999999046325684\n",
      "nazareth - 0.25999999046325684\n",
      "should - 0.25999999046325684\n",
      "answered - 0.25999999046325684\n",
      "prayed - 0.25\n"
     ]
    }
   ],
   "source": [
    "print_neighbours_cosine('jesus', topn=25)"
   ]
  },
  {
   "cell_type": "code",
   "execution_count": 23,
   "metadata": {},
   "outputs": [
    {
     "name": "stdout",
     "output_type": "stream",
     "text": [
      "word: god\n",
      "neighbours: \n",
      "god - 1.0\n",
      "lord - 0.5799999833106995\n",
      "our - 0.44999998807907104\n",
      "spirit - 0.4099999964237213\n",
      "israel - 0.4000000059604645\n",
      "righteousness - 0.3499999940395355\n",
      "selah - 0.33000001311302185\n",
      "for - 0.33000001311302185\n",
      "me - 0.3199999928474426\n",
      "power - 0.3199999928474426\n",
      "faith - 0.3100000023841858\n",
      "hath - 0.3100000023841858\n",
      "who - 0.3100000023841858\n",
      "my - 0.3100000023841858\n",
      "word - 0.30000001192092896\n",
      "holy - 0.30000001192092896\n",
      "but - 0.28999999165534973\n",
      "life - 0.28999999165534973\n",
      "hosts - 0.2800000011920929\n",
      "covenant - 0.2800000011920929\n",
      "perfect - 0.27000001072883606\n",
      "expectation - 0.27000001072883606\n",
      "salvation - 0.27000001072883606\n",
      "true - 0.27000001072883606\n",
      "cannot - 0.27000001072883606\n"
     ]
    }
   ],
   "source": [
    "print_neighbours_cosine('god', topn=25)"
   ]
  },
  {
   "cell_type": "code",
   "execution_count": 24,
   "metadata": {},
   "outputs": [
    {
     "name": "stdout",
     "output_type": "stream",
     "text": [
      "word: nazareth\n",
      "neighbours: \n",
      "nazareth - 1.0\n",
      "persecutest - 0.30000001192092896\n",
      "philip - 0.2800000011920929\n",
      "galilee - 0.2800000011920929\n",
      "rome - 0.27000001072883606\n",
      "capernaum - 0.27000001072883606\n",
      "timothy - 0.27000001072883606\n",
      "christ - 0.27000001072883606\n",
      "jesus - 0.25999999046325684\n",
      "name - 0.25\n",
      "judaea - 0.23999999463558197\n",
      "luz - 0.23999999463558197\n",
      "demanded - 0.23999999463558197\n",
      "barnabas - 0.23000000417232513\n",
      "shadrach - 0.2199999988079071\n",
      "voice - 0.2199999988079071\n",
      "galilaeans - 0.2199999988079071\n",
      "true - 0.2199999988079071\n",
      "entered - 0.2199999988079071\n",
      "holy - 0.2199999988079071\n",
      "after - 0.2199999988079071\n",
      "john - 0.2199999988079071\n",
      "please - 0.20999999344348907\n",
      "masters - 0.20999999344348907\n",
      "wilt - 0.20999999344348907\n"
     ]
    }
   ],
   "source": [
    "print_neighbours_cosine('nazareth', topn=25)"
   ]
  },
  {
   "cell_type": "code",
   "execution_count": 25,
   "metadata": {},
   "outputs": [
    {
     "name": "stdout",
     "output_type": "stream",
     "text": [
      "word: love\n",
      "neighbours: \n",
      "love - 1.0\n",
      "seek - 0.33000001311302185\n",
      "brotherly - 0.3199999928474426\n",
      "patience - 0.3199999928474426\n",
      "walk - 0.3100000023841858\n",
      "our - 0.3100000023841858\n",
      "truth - 0.28999999165534973\n",
      "life - 0.28999999165534973\n",
      "your - 0.28999999165534973\n",
      "than - 0.2800000011920929\n",
      "covenant - 0.2800000011920929\n",
      "desire - 0.2800000011920929\n",
      "ought - 0.2800000011920929\n",
      "perfect - 0.27000001072883606\n",
      "wherewith - 0.27000001072883606\n",
      "statutes - 0.27000001072883606\n",
      "world - 0.25999999046325684\n",
      "clothing - 0.25999999046325684\n",
      "speedily - 0.25999999046325684\n",
      "ways - 0.25999999046325684\n",
      "godliness - 0.25999999046325684\n",
      "simplicity - 0.25999999046325684\n",
      "god - 0.25\n",
      "hate - 0.25\n",
      "quench - 0.25\n"
     ]
    }
   ],
   "source": [
    "print_neighbours_cosine('love', topn=25)"
   ]
  },
  {
   "cell_type": "code",
   "execution_count": 1,
   "metadata": {
    "collapsed": true
   },
   "outputs": [],
   "source": [
    "from gensim.models import word2vec"
   ]
  },
  {
   "cell_type": "code",
   "execution_count": 2,
   "metadata": {
    "collapsed": true
   },
   "outputs": [],
   "source": [
    "word2vec.Word2Vec?"
   ]
  },
  {
   "cell_type": "code",
   "execution_count": null,
   "metadata": {
    "collapsed": true
   },
   "outputs": [],
   "source": []
  }
 ],
 "metadata": {
  "kernelspec": {
   "display_name": "Python 3",
   "language": "python",
   "name": "python3"
  },
  "language_info": {
   "codemirror_mode": {
    "name": "ipython",
    "version": 3
   },
   "file_extension": ".py",
   "mimetype": "text/x-python",
   "name": "python",
   "nbconvert_exporter": "python",
   "pygments_lexer": "ipython3",
   "version": "3.6.1"
  }
 },
 "nbformat": 4,
 "nbformat_minor": 2
}
